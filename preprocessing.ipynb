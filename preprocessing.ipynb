{
 "cells": [
  {
   "cell_type": "code",
   "execution_count": null,
   "metadata": {},
   "outputs": [],
   "source": [
    "import cv2\n",
    "import os"
   ]
  },
  {
   "cell_type": "code",
   "execution_count": null,
   "metadata": {},
   "outputs": [],
   "source": [
    "# Set the directory path and new size for the images\n",
    "directory = '/home/iisers/Documents/oral_cancer_project/Combined_data'\n",
    "output_dir = '/home/iisers/Documents/oral_cancer_project/Combined_data_resized'\n",
    "new_size = (256, 256)  # Width, Height\n",
    "\n",
    "# Loop through all images in the directory\n",
    "for filename in os.listdir(directory):\n",
    "    if filename.endswith('.jpg') or filename.endswith('.png'):  # Only process image files\n",
    "        # Read the image\n",
    "        img = cv2.imread(os.path.join(directory, filename))\n",
    "        \n",
    "        # Resize the image\n",
    "        resized_img = cv2.resize(img, new_size, interpolation=cv2.INTER_AREA)\n",
    "        \n",
    "        # Convert the resized image to grayscale\n",
    "        gray_img = cv2.cvtColor(resized_img, cv2.COLOR_BGR2GRAY)\n",
    "        \n",
    "        # Save the grayscale image with a new filename\n",
    "        new_filename = os.path.splitext(filename)[0] + '.jpg'\n",
    "        cv2.imwrite(os.path.join(output_dir, new_filename), gray_img)"
   ]
  }
 ],
 "metadata": {
  "language_info": {
   "name": "python"
  },
  "orig_nbformat": 4
 },
 "nbformat": 4,
 "nbformat_minor": 2
}
